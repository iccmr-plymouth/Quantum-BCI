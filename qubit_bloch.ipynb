{
 "cells": [
  {
   "cell_type": "code",
   "execution_count": null,
   "metadata": {},
   "outputs": [],
   "source": [
    "import numpy as np\n",
    "from async_bloch import main\n",
    "from quantum_server import Qubit\n",
    "qubit = Qubit(phi=0.5*np.pi, theta=0.5*np.pi)\n",
    "main(qubit, model='mod_knn_oc.joblib', data='df_oc.csv')\n"
   ]
  }
 ],
 "metadata": {
  "language_info": {
   "name": "python"
  },
  "orig_nbformat": 4
 },
 "nbformat": 4,
 "nbformat_minor": 2
}
